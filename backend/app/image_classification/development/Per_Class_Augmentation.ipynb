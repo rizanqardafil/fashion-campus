{
  "cells": [
    {
      "cell_type": "code",
      "execution_count": null,
      "metadata": {
        "colab": {
          "base_uri": "https://localhost:8080/"
        },
        "id": "xtJX0NH6PSqh",
        "outputId": "55c1341e-bb42-4525-cd5f-34594430a456"
      },
      "outputs": [
        {
          "name": "stdout",
          "output_type": "stream",
          "text": [
            "Looking in indexes: https://pypi.org/simple, https://us-python.pkg.dev/colab-wheels/public/simple/\n",
            "Collecting Augmentor\n",
            "  Downloading Augmentor-0.2.10-py2.py3-none-any.whl (38 kB)\n",
            "Requirement already satisfied: tqdm>=4.9.0 in /usr/local/lib/python3.7/dist-packages (from Augmentor) (4.64.1)\n",
            "Requirement already satisfied: Pillow>=5.2.0 in /usr/local/lib/python3.7/dist-packages (from Augmentor) (7.1.2)\n",
            "Requirement already satisfied: numpy>=1.11.0 in /usr/local/lib/python3.7/dist-packages (from Augmentor) (1.21.6)\n",
            "Requirement already satisfied: future>=0.16.0 in /usr/local/lib/python3.7/dist-packages (from Augmentor) (0.16.0)\n",
            "Installing collected packages: Augmentor\n",
            "Successfully installed Augmentor-0.2.10\n"
          ]
        }
      ],
      "source": [
        "!pip3 install Augmentor"
      ]
    },
    {
      "cell_type": "code",
      "execution_count": null,
      "metadata": {
        "id": "wLB2LJudOX8J"
      },
      "outputs": [],
      "source": [
        "import Augmentor\n",
        "import numpy as np\n",
        "import os\n",
        "import glob\n",
        "import random\n",
        "import collections\n",
        "from PIL import Image\n",
        "\n",
        "random.seed(0)"
      ]
    },
    {
      "cell_type": "code",
      "execution_count": null,
      "metadata": {
        "colab": {
          "base_uri": "https://localhost:8080/"
        },
        "id": "-AV0PlwKd0Jo",
        "outputId": "6f24705a-85ec-4484-f753-fb8d61f2211d"
      },
      "outputs": [
        {
          "name": "stdout",
          "output_type": "stream",
          "text": [
            "Mounted at /content/drive\n"
          ]
        }
      ],
      "source": [
        "from google.colab import drive\n",
        "drive.mount('/content/drive')"
      ]
    },
    {
      "cell_type": "markdown",
      "metadata": {
        "id": "a2ogfJYAOX8M"
      },
      "source": [
        "## 1. Point to a Root Directory\n",
        "\n",
        "Your root directory must contain subdirectories, one for each class in your machine learning classification problem:"
      ]
    },
    {
      "cell_type": "code",
      "execution_count": null,
      "metadata": {
        "collapsed": true,
        "id": "idCiPTFQOX8N"
      },
      "outputs": [],
      "source": [
        "root_directory = \"drive/MyDrive/Ternaus/train/1\""
      ]
    },
    {
      "cell_type": "markdown",
      "metadata": {
        "id": "R_6ZnBK_OX8N"
      },
      "source": [
        "## 2. Scan for folders in the root directory\n",
        "\n",
        "We use `glob.glob()` to scan for all files in the `root_directory` and only choose those that are directories. These will be out classes:"
      ]
    },
    {
      "cell_type": "code",
      "execution_count": null,
      "metadata": {
        "colab": {
          "base_uri": "https://localhost:8080/"
        },
        "id": "xs4kZMTzcMmG",
        "outputId": "33c77ab5-7683-421a-9a69-9d9b546bd021"
      },
      "outputs": [
        {
          "name": "stdout",
          "output_type": "stream",
          "text": [
            "Initialised with 543 image(s) found.\n",
            "Output directory set to drive/MyDrive/Ternaus/train/1/output."
          ]
        }
      ],
      "source": [
        "p = Augmentor.Pipeline(root_directory)"
      ]
    },
    {
      "cell_type": "code",
      "execution_count": null,
      "metadata": {
        "id": "PB4HTTrqe0vl"
      },
      "outputs": [],
      "source": [
        "p.flip_top_bottom(probability=0.1)\n",
        "p.flip_top_bottom(probability=0.4)\n",
        "p.rotate(probability=0.3, max_left_rotation=5, max_right_rotation=5)\n",
        "p.zoom(probability=0.3, min_factor=1.1, max_factor=1.6)\n",
        "p.rotate(probability=0.7, max_left_rotation=10, max_right_rotation=10)\n",
        "p.flip_left_right(probability=0.1)\n",
        "p.flip_left_right(probability=0.4)\n",
        "p.rotate(probability=1.0, max_left_rotation=5, max_right_rotation=10)"
      ]
    },
    {
      "cell_type": "code",
      "execution_count": null,
      "metadata": {
        "colab": {
          "base_uri": "https://localhost:8080/"
        },
        "id": "KkkKi9Ake8_m",
        "outputId": "48c4176c-016c-44db-8555-f9c4bc6debd1"
      },
      "outputs": [
        {
          "name": "stdout",
          "output_type": "stream",
          "text": [
            "Operations: 8\n",
            "\t0: Flip (probability=0.1 top_bottom_left_right=TOP_BOTTOM )\n",
            "\t1: Flip (probability=0.4 top_bottom_left_right=TOP_BOTTOM )\n",
            "\t2: RotateRange (probability=0.3 max_left_rotation=-5 max_right_rotation=5 )\n",
            "\t3: Zoom (probability=0.3 min_factor=1.1 max_factor=1.6 )\n",
            "\t4: RotateRange (probability=0.7 max_left_rotation=-10 max_right_rotation=10 )\n",
            "\t5: Flip (probability=0.1 top_bottom_left_right=LEFT_RIGHT )\n",
            "\t6: Flip (probability=0.4 top_bottom_left_right=LEFT_RIGHT )\n",
            "\t7: RotateRange (probability=1.0 max_left_rotation=-5 max_right_rotation=10 )\n",
            "Images: 1475\n",
            "Classes: 1\n",
            "\tClass index: 0 Class label: 8 \n",
            "Dimensions: 1\n",
            "\tWidth: 28 Height: 28\n",
            "Formats: 1\n",
            "\t JPEG\n",
            "\n",
            "You can remove operations using the appropriate index and the remove_operation(index) function.\n"
          ]
        }
      ],
      "source": [
        "p.status()"
      ]
    },
    {
      "cell_type": "code",
      "execution_count": null,
      "metadata": {
        "colab": {
          "base_uri": "https://localhost:8080/"
        },
        "id": "WKqcHB4YhrkN",
        "outputId": "81307236-8615-43d1-dfeb-a6cdd8c49e9c"
      },
      "outputs": [
        {
          "name": "stderr",
          "output_type": "stream",
          "text": [
            "Processing <PIL.Image.Image image mode=L size=28x28 at 0x7F9DC4487350>: 100%|██████████| 10000/10000 [03:02<00:00, 54.93 Samples/s]\n"
          ]
        }
      ],
      "source": [
        "p.sample(10000)"
      ]
    }
  ],
  "metadata": {
    "colab": {
      "provenance": []
    },
    "kernelspec": {
      "display_name": "empirical",
      "language": "python",
      "name": "empirical"
    },
    "language_info": {
      "codemirror_mode": {
        "name": "ipython",
        "version": 2
      },
      "file_extension": ".py",
      "mimetype": "text/x-python",
      "name": "python",
      "nbconvert_exporter": "python",
      "pygments_lexer": "ipython2",
      "version": "2.7.6"
    }
  },
  "nbformat": 4,
  "nbformat_minor": 0
}
