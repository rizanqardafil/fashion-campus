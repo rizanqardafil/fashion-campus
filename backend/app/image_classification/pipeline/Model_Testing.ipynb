{
  "cells": [
    {
      "cell_type": "code",
      "execution_count": 2,
      "metadata": {
        "id": "r2-8RWgeqfBy"
      },
      "outputs": [],
      "source": [
        "import io\n",
        "from PIL import Image\n",
        "import io\n",
        "import sys\n",
        "import torch\n",
        "import torchvision.transforms as transforms\n",
        "import torch.nn as nn\n",
        "from torchvision.models import resnet34\n",
        "import torch.nn.functional as F\n",
        "from torch.autograd import Variable\n",
        "import os \n",
        "import numpy as np\n",
        "import torch\n",
        "import glob\n",
        "import torchvision\n",
        "import torch.optim as optim\n",
        "import torchvision\n",
        "import pathlib\n",
        "from   torch.utils.data import  DataLoader\n",
        "import cv2"
      ]
    },
    {
      "cell_type": "code",
      "execution_count": null,
      "metadata": {
        "id": "P7VSsqmdk09o"
      },
      "outputs": [],
      "source": [
        "class Net(nn.Module):\n",
        "      def __init__(self, num_classes=11):\n",
        "          super(Net, self).__init__()\n",
        "          self.features   = nn.Sequential(\n",
        "                                nn.Conv2d(1, 32, kernel_size=3, stride=1, padding='same'), \n",
        "                                nn.BatchNorm2d(32),\n",
        "                                nn.ReLU(inplace=True),\n",
        "                                nn.MaxPool2d(kernel_size=2, stride=1), \n",
        "                                nn.Conv2d(32, 64, kernel_size=3, padding='same'),\n",
        "                                nn.BatchNorm2d(64),\n",
        "                                nn.ReLU(inplace=True), \n",
        "                                nn.Conv2d(64, 128, kernel_size=3, padding='same'), \n",
        "                                nn.BatchNorm2d(128),\n",
        "                                nn.ReLU(inplace=True),\n",
        "                                nn.Conv2d(128, 128, kernel_size=3, padding='same'), \n",
        "                                nn.BatchNorm2d(128),\n",
        "                                nn.ReLU(inplace=True),\n",
        "                                nn.MaxPool2d(kernel_size=2, stride=1),)\n",
        "          \n",
        "          self.avgpool    = nn.AdaptiveAvgPool2d((7, 7))\n",
        "\n",
        "          self.classifier = nn.Sequential(\n",
        "                                nn.Dropout(0.2), \n",
        "                                nn.Linear(128 * 7 * 7, 4096), \n",
        "                                nn.ReLU(inplace=True),\n",
        "                                nn.Linear(4096, 4096), \n",
        "                                nn.ReLU(inplace=True), \n",
        "                                nn.Linear(4096, num_classes),)\n",
        "          \n",
        "      def forward(self, x):\n",
        "          x = self.features(x)\n",
        "          x = self.avgpool(x)\n",
        "          x = x.view(-1, 128*7*7)\n",
        "          x = self.classifier(x)\n",
        "          return x"
      ]
    },
    {
      "cell_type": "code",
      "execution_count": null,
      "metadata": {
        "id": "UC6_m4EjA7jZ"
      },
      "outputs": [],
      "source": [
        "class ImageClassifier:\n",
        "    def __init__(self):\n",
        "        # Class module from AI team        \n",
        "        self.classifier = Net()\n",
        "        # Model path with pth file\n",
        "        model_path = 'drive/MyDrive/model/ModelAug.pth'               \n",
        "        self.classifier.load_state_dict(torch.load(model_path, map_location=torch.device('cpu')))\n",
        "\n",
        "    def preprocessing(self, image):\n",
        "      transform =transforms.Compose([transforms.Resize((128,128)),\n",
        "                                     transforms.RandomHorizontalFlip(),\n",
        "                                     transforms.ToTensor(), \n",
        "                                     transforms.Normalize([0.5,], [0.5,]),\n",
        "                                     transforms.Grayscale(1)\n",
        "                                    ])\n",
        "      image = transform(image).float()\n",
        "      return image\n",
        "\n",
        "    def predict(self, image):\n",
        "        # Preprocessing image\n",
        "        image = cv2.imread(image, 3)\n",
        "        image = Image.fromarray(image)\n",
        "        image_tensor = self.preprocessing(image).float()\n",
        "        image_tensor = image_tensor.unsqueeze_(0)\n",
        "        image = Variable(image_tensor)    \n",
        "        # Predict image from classifier\n",
        "        output = self.classifier(image)\n",
        "        index = output.data.numpy().argmax()\n",
        "        with open('class.txt', 'r') as f:\n",
        "          to_label = eval(f.read())\n",
        "        # Get result final and return it\n",
        "        result_final = to_label[index]\n",
        "        return result_final"
      ]
    },
    {
      "cell_type": "markdown",
      "metadata": {
        "id": "dv7eY6RkizDe"
      },
      "source": [
        "### PREDICTION"
      ]
    },
    {
      "cell_type": "code",
      "execution_count": null,
      "metadata": {
        "id": "dXFiu65uqgsk"
      },
      "outputs": [],
      "source": [
        "# Call Image Classifier class for BE side\n",
        "image_classifier = ImageClassifier()"
      ]
    },
    {
      "cell_type": "markdown",
      "metadata": {
        "id": "Tqx22kwz9koI"
      },
      "source": [
        "## Jury Test Set"
      ]
    },
    {
      "cell_type": "code",
      "execution_count": null,
      "metadata": {
        "colab": {
          "base_uri": "https://localhost:8080/"
        },
        "id": "o1I3TpMeqjZ1",
        "outputId": "f71f5b18-1091-41c8-8d64-e74d89df5595"
      },
      "outputs": [
        {
          "name": "stdout",
          "output_type": "stream",
          "text": [
            "Hat\n"
          ]
        }
      ],
      "source": [
        "# Testing image\n",
        "image = 'hat_3.jpg'\n",
        "predicted_class = image_classifier.predict(image)\n",
        "print(predicted_class)"
      ]
    },
    {
      "cell_type": "code",
      "execution_count": null,
      "metadata": {
        "colab": {
          "base_uri": "https://localhost:8080/"
        },
        "id": "uajG5hJ_Hqzx",
        "outputId": "c8fafca9-8f68-4ee7-f936-96d1a74662c0"
      },
      "outputs": [
        {
          "name": "stdout",
          "output_type": "stream",
          "text": [
            "Hat\n"
          ]
        }
      ],
      "source": [
        "image = 'hat_4.jpg'\n",
        "predicted_class = image_classifier.predict(image)\n",
        "\n",
        "print(predicted_class)"
      ]
    },
    {
      "cell_type": "code",
      "execution_count": null,
      "metadata": {
        "colab": {
          "base_uri": "https://localhost:8080/"
        },
        "id": "TlA4lOYh9nkN",
        "outputId": "5e5fff93-f9d1-4192-ca20-963c4dae06c6"
      },
      "outputs": [
        {
          "name": "stdout",
          "output_type": "stream",
          "text": [
            "Dress\n"
          ]
        }
      ],
      "source": [
        "image = 'trouser_1.jpg'\n",
        "predicted_class = image_classifier.predict(image)\n",
        "print(predicted_class)"
      ]
    },
    {
      "cell_type": "code",
      "execution_count": null,
      "metadata": {
        "colab": {
          "base_uri": "https://localhost:8080/"
        },
        "id": "X7U6ucVwK0qK",
        "outputId": "381d9bcb-73a0-481b-8014-7be666dccb9e"
      },
      "outputs": [
        {
          "name": "stdout",
          "output_type": "stream",
          "text": [
            "Trouser\n"
          ]
        }
      ],
      "source": [
        "image = '116537_BLAC_1.jpg'\n",
        "predicted_class = image_classifier.predict(image)\n",
        "print(predicted_class)"
      ]
    },
    {
      "cell_type": "code",
      "execution_count": null,
      "metadata": {
        "colab": {
          "base_uri": "https://localhost:8080/"
        },
        "id": "GfQLSNSY-Uh8",
        "outputId": "015f644e-0474-4804-ce25-1f9cf2b0aaf0"
      },
      "outputs": [
        {
          "name": "stdout",
          "output_type": "stream",
          "text": [
            "Sandal\n"
          ]
        }
      ],
      "source": [
        "image = 'sandal_1.jpeg'\n",
        "predicted_class = image_classifier.predict(image)\n",
        "print(predicted_class)"
      ]
    },
    {
      "cell_type": "code",
      "execution_count": null,
      "metadata": {
        "colab": {
          "base_uri": "https://localhost:8080/"
        },
        "id": "sE2H6Xui-aq7",
        "outputId": "934ca0fe-dea8-480d-83db-daa1f3c000eb"
      },
      "outputs": [
        {
          "name": "stdout",
          "output_type": "stream",
          "text": [
            "Dress\n"
          ]
        }
      ],
      "source": [
        "image = 'mnist_58.png'\n",
        "predicted_class = image_classifier.predict(image)\n",
        "print(predicted_class)"
      ]
    },
    {
      "cell_type": "code",
      "execution_count": null,
      "metadata": {
        "colab": {
          "base_uri": "https://localhost:8080/"
        },
        "id": "tcxCUvDXHM0p",
        "outputId": "9cf2baed-803d-4377-d5dd-ed3d4dab707f"
      },
      "outputs": [
        {
          "name": "stdout",
          "output_type": "stream",
          "text": [
            "Sneaker\n"
          ]
        }
      ],
      "source": [
        "image = 'mnist_41.png'\n",
        "predicted_class = image_classifier.predict(image)\n",
        "print(predicted_class)"
      ]
    },
    {
      "cell_type": "code",
      "execution_count": null,
      "metadata": {
        "colab": {
          "base_uri": "https://localhost:8080/"
        },
        "id": "FziwPb-BHgV4",
        "outputId": "5efef90a-d74b-4c0e-a6a4-dc813ab46626"
      },
      "outputs": [
        {
          "name": "stdout",
          "output_type": "stream",
          "text": [
            "Bag\n"
          ]
        }
      ],
      "source": [
        "image = 'mnist_35_bag.png'\n",
        "predicted_class = image_classifier.predict(image)\n",
        "print(predicted_class)"
      ]
    },
    {
      "cell_type": "code",
      "execution_count": null,
      "metadata": {
        "colab": {
          "base_uri": "https://localhost:8080/"
        },
        "id": "5KIoofkXHknJ",
        "outputId": "ce38c306-e30e-44b0-edc1-c9dc799a5f78"
      },
      "outputs": [
        {
          "name": "stdout",
          "output_type": "stream",
          "text": [
            "Shirt\n"
          ]
        }
      ],
      "source": [
        "image = 'mnist_112.png'\n",
        "predicted_class = image_classifier.predict(image)\n",
        "print(predicted_class)"
      ]
    },
    {
      "cell_type": "code",
      "execution_count": null,
      "metadata": {
        "colab": {
          "base_uri": "https://localhost:8080/"
        },
        "id": "j-C5GzqCH0ug",
        "outputId": "63958428-fc29-4197-da8a-fd8678f52ddd"
      },
      "outputs": [
        {
          "name": "stdout",
          "output_type": "stream",
          "text": [
            "Shirt\n"
          ]
        }
      ],
      "source": [
        "image = 'mnist_11_shoes.png'\n",
        "predicted_clas = image_classifier.predict(image)\n",
        "print(predicted_clas)"
      ]
    },
    {
      "cell_type": "code",
      "execution_count": null,
      "metadata": {
        "colab": {
          "base_uri": "https://localhost:8080/"
        },
        "id": "0jetwMj3MFo8",
        "outputId": "9e5f24da-69fb-42db-f7c4-2697582ff201"
      },
      "outputs": [
        {
          "name": "stdout",
          "output_type": "stream",
          "text": [
            "Ankle Boot\n"
          ]
        }
      ],
      "source": [
        "image = 'tes_ankle.jpg'\n",
        "predicted_clas = image_classifier.predict(image)\n",
        "print(predicted_clas)"
      ]
    },
    {
      "cell_type": "code",
      "execution_count": null,
      "metadata": {
        "colab": {
          "base_uri": "https://localhost:8080/"
        },
        "id": "KiNhLiQlMSZe",
        "outputId": "601e0ebf-219a-45ae-805f-b420521b7f01"
      },
      "outputs": [
        {
          "name": "stdout",
          "output_type": "stream",
          "text": [
            "Ankle Boot\n"
          ]
        }
      ],
      "source": [
        "image = 'tes_ankle_1.jpg'\n",
        "predicted_clas = image_classifier.predict(image)\n",
        "print(predicted_clas)"
      ]
    },
    {
      "cell_type": "code",
      "execution_count": null,
      "metadata": {
        "colab": {
          "base_uri": "https://localhost:8080/"
        },
        "id": "LzJhN5uDLIVN",
        "outputId": "4c3c31f1-be26-4546-91fe-6c961f87349f"
      },
      "outputs": [
        {
          "name": "stdout",
          "output_type": "stream",
          "text": [
            "Ankle Boot\n"
          ]
        }
      ],
      "source": [
        "image = '372.jpg'\n",
        "predicted_clas = image_classifier.predict(image)\n",
        "print(predicted_clas)"
      ]
    },
    {
      "cell_type": "code",
      "execution_count": null,
      "metadata": {
        "colab": {
          "base_uri": "https://localhost:8080/"
        },
        "id": "4FfR1GneLSQn",
        "outputId": "4f3eaecd-c257-4bcf-cc2f-5f1d8877cffd"
      },
      "outputs": [
        {
          "name": "stdout",
          "output_type": "stream",
          "text": [
            "Ankle Boot\n"
          ]
        }
      ],
      "source": [
        "image = '1332.jpg'\n",
        "predicted_clas = image_classifier.predict(image)\n",
        "print(predicted_clas)"
      ]
    },
    {
      "cell_type": "code",
      "execution_count": null,
      "metadata": {
        "colab": {
          "base_uri": "https://localhost:8080/"
        },
        "id": "kYOgebNMIE85",
        "outputId": "1bd6d0a4-58c3-4048-bae5-b9f42d9455ad"
      },
      "outputs": [
        {
          "name": "stdout",
          "output_type": "stream",
          "text": [
            "Bag\n"
          ]
        }
      ],
      "source": [
        "image = 'mnist_358.png'\n",
        "predicted_clas = image_classifier.predict(image)\n",
        "print(predicted_clas)"
      ]
    }
  ],
  "metadata": {
    "colab": {
      "provenance": []
    },
    "kernelspec": {
      "display_name": "Python 3.10.8 ('.test-venv': venv)",
      "language": "python",
      "name": "python3"
    },
    "language_info": {
      "codemirror_mode": {
        "name": "ipython",
        "version": 3
      },
      "file_extension": ".py",
      "mimetype": "text/x-python",
      "name": "python",
      "nbconvert_exporter": "python",
      "pygments_lexer": "ipython3",
      "version": "3.10.8"
    },
    "vscode": {
      "interpreter": {
        "hash": "0259ce9ee94696aff6771410473c8a4ed2f40b783d37c1d2006dc4104fb71721"
      }
    }
  },
  "nbformat": 4,
  "nbformat_minor": 0
}
